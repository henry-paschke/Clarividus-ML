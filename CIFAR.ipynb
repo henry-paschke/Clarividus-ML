{
  "nbformat": 4,
  "nbformat_minor": 0,
  "metadata": {
    "colab": {
      "provenance": []
    },
    "kernelspec": {
      "name": "python3",
      "display_name": "Python 3"
    },
    "language_info": {
      "name": "python"
    }
  },
  "cells": [
    {
      "cell_type": "code",
      "execution_count": null,
      "metadata": {
        "id": "1Ra8rBkebxo3"
      },
      "outputs": [],
      "source": [
        "import torch\n",
        "import torchvision\n",
        "import torchvision.transforms as transforms"
      ]
    },
    {
      "cell_type": "code",
      "source": [
        "transform = transforms.Compose(\n",
        "    [transforms.RandomCrop(32, padding=4),\n",
        "     transforms.RandomHorizontalFlip(),\n",
        "     transforms.ToTensor(),\n",
        "     transforms.Normalize((0.5, 0.5, 0.5), (0.5, 0.5, 0.5))])\n",
        "\n",
        "batch_size = 32\n",
        "\n",
        "trainset = torchvision.datasets.CIFAR10(root='./data', train=True,\n",
        "                                        download=True, transform=transform)\n",
        "trainloader = torch.utils.data.DataLoader(trainset, batch_size=batch_size,\n",
        "                                          shuffle=True, num_workers=2)\n",
        "\n",
        "testset = torchvision.datasets.CIFAR10(root='./data', train=False,\n",
        "                                       download=True, transform=transform)\n",
        "testloader = torch.utils.data.DataLoader(testset, batch_size=batch_size,\n",
        "                                         shuffle=False, num_workers=2)\n",
        "\n",
        "classes = ('plane', 'car', 'bird', 'cat',\n",
        "           'deer', 'dog', 'frog', 'horse', 'ship', 'truck')"
      ],
      "metadata": {
        "id": "Lia6volU2s3v",
        "colab": {
          "base_uri": "https://localhost:8080/"
        },
        "outputId": "3b52111c-e7b9-4c1c-9edd-49fd7f4ef020"
      },
      "execution_count": null,
      "outputs": [
        {
          "output_type": "stream",
          "name": "stderr",
          "text": [
            "100%|██████████| 170M/170M [00:02<00:00, 62.0MB/s]\n"
          ]
        }
      ]
    },
    {
      "cell_type": "code",
      "source": [
        "import torch.nn as nn\n",
        "import torch.nn.functional as F\n",
        "\n",
        "\n",
        "class Net(nn.Module):\n",
        "    def __init__(self, input_channels=3, input_size=32):\n",
        "        super().__init__()\n",
        "\n",
        "        # Convolutional layers\n",
        "        self.features = nn.Sequential(\n",
        "            nn.Conv2d(input_channels, 32, kernel_size=3, stride=1),\n",
        "            nn.BatchNorm2d(32),\n",
        "            nn.ReLU(),\n",
        "            nn.MaxPool2d(2, 2),\n",
        "\n",
        "            nn.Conv2d(32, 64, kernel_size=3, stride=1),\n",
        "            nn.BatchNorm2d(64),\n",
        "            nn.ReLU(),\n",
        "            nn.MaxPool2d(2, 2),\n",
        "\n",
        "            nn.Conv2d(64, 128, kernel_size=3, stride=1),\n",
        "            nn.BatchNorm2d(128),\n",
        "            nn.ReLU(),\n",
        "\n",
        "            nn.Conv2d(128, 256, kernel_size=3, stride=1),\n",
        "            nn.BatchNorm2d(256),\n",
        "            nn.ReLU(),\n",
        "        )\n",
        "\n",
        "        # Pass a dummy input through the convolutional layers\n",
        "        self._dummy_input = torch.zeros(1, input_channels, input_size, input_size)  # batch size = 1\n",
        "        self._dummy_output = self.features(self._dummy_input)\n",
        "        fc_input_size = self._dummy_output.view(1, -1).size(1)\n",
        "\n",
        "        self.classifier = nn.Sequential(\n",
        "            nn.Linear(fc_input_size, 120),\n",
        "            nn.ReLU(),\n",
        "            nn.Dropout(p=0.2),\n",
        "            nn.Linear(120, 84),\n",
        "            nn.ReLU(),\n",
        "            nn.Linear(84, 10)\n",
        "        )\n",
        "\n",
        "\n",
        "    def forward(self, x):\n",
        "        x = self.features(x)\n",
        "        x = torch.flatten(x, 1)\n",
        "        x = self.classifier(x)\n",
        "        return x\n",
        "\n",
        "net = Net()\n",
        "\n",
        "device = torch.device('cuda:0' if torch.cuda.is_available() else 'cpu')\n",
        "net.to(device)"
      ],
      "metadata": {
        "colab": {
          "base_uri": "https://localhost:8080/"
        },
        "id": "3SPM_TST4gYW",
        "outputId": "606f7807-cfec-4165-9df5-ce6ad9bdb987"
      },
      "execution_count": null,
      "outputs": [
        {
          "output_type": "execute_result",
          "data": {
            "text/plain": [
              "Net(\n",
              "  (features): Sequential(\n",
              "    (0): Conv2d(3, 32, kernel_size=(3, 3), stride=(1, 1))\n",
              "    (1): BatchNorm2d(32, eps=1e-05, momentum=0.1, affine=True, track_running_stats=True)\n",
              "    (2): ReLU()\n",
              "    (3): MaxPool2d(kernel_size=2, stride=2, padding=0, dilation=1, ceil_mode=False)\n",
              "    (4): Conv2d(32, 64, kernel_size=(3, 3), stride=(1, 1))\n",
              "    (5): BatchNorm2d(64, eps=1e-05, momentum=0.1, affine=True, track_running_stats=True)\n",
              "    (6): ReLU()\n",
              "    (7): MaxPool2d(kernel_size=2, stride=2, padding=0, dilation=1, ceil_mode=False)\n",
              "    (8): Conv2d(64, 128, kernel_size=(3, 3), stride=(1, 1))\n",
              "    (9): BatchNorm2d(128, eps=1e-05, momentum=0.1, affine=True, track_running_stats=True)\n",
              "    (10): ReLU()\n",
              "    (11): Conv2d(128, 256, kernel_size=(3, 3), stride=(1, 1))\n",
              "    (12): BatchNorm2d(256, eps=1e-05, momentum=0.1, affine=True, track_running_stats=True)\n",
              "    (13): ReLU()\n",
              "  )\n",
              "  (classifier): Sequential(\n",
              "    (0): Linear(in_features=1024, out_features=120, bias=True)\n",
              "    (1): ReLU()\n",
              "    (2): Dropout(p=0.2, inplace=False)\n",
              "    (3): Linear(in_features=120, out_features=84, bias=True)\n",
              "    (4): ReLU()\n",
              "    (5): Linear(in_features=84, out_features=10, bias=True)\n",
              "  )\n",
              ")"
            ]
          },
          "metadata": {},
          "execution_count": 29
        }
      ]
    },
    {
      "cell_type": "code",
      "source": [
        "import torch.optim as optim\n",
        "\n",
        "criterion = nn.CrossEntropyLoss()\n",
        "optimizer = optim.SGD(net.parameters(), lr=0.01, weight_decay=5e-4,  momentum=0.9)"
      ],
      "metadata": {
        "id": "v_MUfZ8f4kIG"
      },
      "execution_count": null,
      "outputs": []
    },
    {
      "cell_type": "code",
      "source": [
        "epochs = 10\n",
        "\n",
        "for epoch in range(epochs):\n",
        "    # Training mode\n",
        "    net.train()\n",
        "    running_loss = 0.0\n",
        "    correct = 0\n",
        "    total = 0\n",
        "\n",
        "    for i, data in enumerate(trainloader, 0):\n",
        "        inputs, labels = data\n",
        "\n",
        "        optimizer.zero_grad()\n",
        "        outputs = net(inputs)\n",
        "        loss = criterion(outputs, labels)\n",
        "        loss.backward()\n",
        "        optimizer.step()\n",
        "\n",
        "        _, predicted = torch.max(outputs.data, 1)\n",
        "        total += labels.size(0)\n",
        "        correct += (predicted == labels).sum().item()\n",
        "\n",
        "        running_loss += loss.item()\n",
        "        if i % 200 == 199:\n",
        "            print(f'[Epoch {epoch + 1}, Batch {i + 1:5d}] '\n",
        "                  f'Loss: {running_loss / 200:.3f} '\n",
        "                  f'Train Acc: {100 * correct / total:.2f}%')\n",
        "            running_loss = 0.0\n",
        "            correct = 0\n",
        "            total = 0\n",
        "\n",
        "    # Validation after each epoch\n",
        "    net.eval()\n",
        "    val_loss = 0.0\n",
        "    val_correct = 0\n",
        "    val_total = 0\n",
        "    with torch.no_grad():\n",
        "        for val_data in testloader:\n",
        "            val_inputs, val_labels = val_data\n",
        "            val_outputs = net(val_inputs)\n",
        "            val_loss += criterion(val_outputs, val_labels).item()\n",
        "\n",
        "            _, val_predicted = torch.max(val_outputs.data, 1)\n",
        "            val_total += val_labels.size(0)\n",
        "            val_correct += (val_predicted == val_labels).sum().item()\n",
        "\n",
        "    val_loss /= len(testloader)\n",
        "    val_acc = 100 * val_correct / val_total\n",
        "    print(f'[Epoch {epoch + 1}] Validation Loss: {val_loss:.3f} '\n",
        "          f'Validation Acc: {val_acc:.2f}%')\n",
        "\n",
        "    # Save model checkpoint\n",
        "    PATH = './cifar_net.pth'\n",
        "    torch.save(net.state_dict(), PATH)\n"
      ],
      "metadata": {
        "id": "XYkHtJqMP70Z",
        "colab": {
          "base_uri": "https://localhost:8080/"
        },
        "outputId": "bb71eeb1-31d9-4d87-aa5f-f2eb5ee94a9f"
      },
      "execution_count": null,
      "outputs": [
        {
          "output_type": "stream",
          "name": "stdout",
          "text": [
            "[Epoch 1, Batch   200] Loss: 0.755 Train Acc: 74.27%\n",
            "[Epoch 1, Batch   400] Loss: 0.740 Train Acc: 75.02%\n",
            "[Epoch 1, Batch   600] Loss: 0.740 Train Acc: 74.80%\n",
            "[Epoch 1, Batch   800] Loss: 0.720 Train Acc: 75.30%\n",
            "[Epoch 1, Batch  1000] Loss: 0.726 Train Acc: 74.95%\n",
            "[Epoch 1, Batch  1200] Loss: 0.734 Train Acc: 74.77%\n",
            "[Epoch 1, Batch  1400] Loss: 0.726 Train Acc: 74.66%\n",
            "[Epoch 1] Validation Loss: 0.694 Validation Acc: 76.33%\n",
            "[Epoch 2, Batch   200] Loss: 0.698 Train Acc: 75.89%\n",
            "[Epoch 2, Batch   400] Loss: 0.712 Train Acc: 75.28%\n",
            "[Epoch 2, Batch   600] Loss: 0.716 Train Acc: 75.81%\n",
            "[Epoch 2, Batch   800] Loss: 0.714 Train Acc: 75.30%\n",
            "[Epoch 2, Batch  1000] Loss: 0.724 Train Acc: 75.53%\n",
            "[Epoch 2, Batch  1200] Loss: 0.740 Train Acc: 74.73%\n",
            "[Epoch 2, Batch  1400] Loss: 0.733 Train Acc: 74.89%\n",
            "[Epoch 2] Validation Loss: 0.741 Validation Acc: 74.90%\n",
            "[Epoch 3, Batch   200] Loss: 0.693 Train Acc: 76.25%\n",
            "[Epoch 3, Batch   400] Loss: 0.709 Train Acc: 74.97%\n",
            "[Epoch 3, Batch   600] Loss: 0.713 Train Acc: 75.94%\n",
            "[Epoch 3, Batch   800] Loss: 0.735 Train Acc: 75.06%\n",
            "[Epoch 3, Batch  1000] Loss: 0.711 Train Acc: 76.06%\n",
            "[Epoch 3, Batch  1200] Loss: 0.711 Train Acc: 75.77%\n",
            "[Epoch 3, Batch  1400] Loss: 0.700 Train Acc: 75.86%\n",
            "[Epoch 3] Validation Loss: 0.702 Validation Acc: 75.26%\n",
            "[Epoch 4, Batch   200] Loss: 0.678 Train Acc: 76.70%\n",
            "[Epoch 4, Batch   400] Loss: 0.711 Train Acc: 75.94%\n",
            "[Epoch 4, Batch   600] Loss: 0.708 Train Acc: 75.61%\n",
            "[Epoch 4, Batch   800] Loss: 0.687 Train Acc: 76.34%\n",
            "[Epoch 4, Batch  1000] Loss: 0.695 Train Acc: 76.52%\n",
            "[Epoch 4, Batch  1200] Loss: 0.687 Train Acc: 76.31%\n",
            "[Epoch 4, Batch  1400] Loss: 0.696 Train Acc: 76.36%\n",
            "[Epoch 4] Validation Loss: 0.670 Validation Acc: 77.09%\n",
            "[Epoch 5, Batch   200] Loss: 0.650 Train Acc: 77.80%\n",
            "[Epoch 5, Batch   400] Loss: 0.648 Train Acc: 77.83%\n",
            "[Epoch 5, Batch   600] Loss: 0.693 Train Acc: 76.80%\n",
            "[Epoch 5, Batch   800] Loss: 0.664 Train Acc: 77.58%\n",
            "[Epoch 5, Batch  1000] Loss: 0.692 Train Acc: 76.45%\n",
            "[Epoch 5, Batch  1200] Loss: 0.715 Train Acc: 75.42%\n",
            "[Epoch 5, Batch  1400] Loss: 0.731 Train Acc: 75.27%\n",
            "[Epoch 5] Validation Loss: 0.674 Validation Acc: 77.36%\n",
            "[Epoch 6, Batch   200] Loss: 0.649 Train Acc: 77.17%\n",
            "[Epoch 6, Batch   400] Loss: 0.691 Train Acc: 76.45%\n",
            "[Epoch 6, Batch   600] Loss: 0.663 Train Acc: 77.25%\n",
            "[Epoch 6, Batch   800] Loss: 0.676 Train Acc: 76.94%\n",
            "[Epoch 6, Batch  1000] Loss: 0.679 Train Acc: 77.22%\n",
            "[Epoch 6, Batch  1200] Loss: 0.678 Train Acc: 76.84%\n",
            "[Epoch 6, Batch  1400] Loss: 0.698 Train Acc: 76.17%\n",
            "[Epoch 6] Validation Loss: 0.702 Validation Acc: 75.46%\n",
            "[Epoch 7, Batch   200] Loss: 0.659 Train Acc: 77.62%\n",
            "[Epoch 7, Batch   400] Loss: 0.674 Train Acc: 77.08%\n",
            "[Epoch 7, Batch   600] Loss: 0.669 Train Acc: 77.78%\n",
            "[Epoch 7, Batch   800] Loss: 0.668 Train Acc: 77.16%\n",
            "[Epoch 7, Batch  1000] Loss: 0.674 Train Acc: 77.64%\n",
            "[Epoch 7, Batch  1200] Loss: 0.687 Train Acc: 76.36%\n",
            "[Epoch 7, Batch  1400] Loss: 0.675 Train Acc: 77.03%\n",
            "[Epoch 7] Validation Loss: 0.656 Validation Acc: 77.43%\n",
            "[Epoch 8, Batch   200] Loss: 0.644 Train Acc: 78.50%\n",
            "[Epoch 8, Batch   400] Loss: 0.654 Train Acc: 78.00%\n",
            "[Epoch 8, Batch   600] Loss: 0.657 Train Acc: 77.83%\n",
            "[Epoch 8, Batch   800] Loss: 0.664 Train Acc: 77.47%\n",
            "[Epoch 8, Batch  1000] Loss: 0.671 Train Acc: 76.92%\n",
            "[Epoch 8, Batch  1200] Loss: 0.670 Train Acc: 76.77%\n",
            "[Epoch 8, Batch  1400] Loss: 0.691 Train Acc: 76.20%\n",
            "[Epoch 8] Validation Loss: 0.683 Validation Acc: 76.98%\n",
            "[Epoch 9, Batch   200] Loss: 0.638 Train Acc: 77.67%\n",
            "[Epoch 9, Batch   400] Loss: 0.651 Train Acc: 77.55%\n",
            "[Epoch 9, Batch   600] Loss: 0.666 Train Acc: 77.72%\n",
            "[Epoch 9, Batch   800] Loss: 0.677 Train Acc: 76.86%\n",
            "[Epoch 9, Batch  1000] Loss: 0.643 Train Acc: 77.53%\n",
            "[Epoch 9, Batch  1200] Loss: 0.642 Train Acc: 78.47%\n",
            "[Epoch 9, Batch  1400] Loss: 0.661 Train Acc: 77.28%\n",
            "[Epoch 9] Validation Loss: 0.701 Validation Acc: 76.25%\n",
            "[Epoch 10, Batch   200] Loss: 0.647 Train Acc: 77.91%\n",
            "[Epoch 10, Batch   400] Loss: 0.651 Train Acc: 77.83%\n",
            "[Epoch 10, Batch   600] Loss: 0.643 Train Acc: 78.53%\n",
            "[Epoch 10, Batch   800] Loss: 0.646 Train Acc: 78.12%\n",
            "[Epoch 10, Batch  1000] Loss: 0.659 Train Acc: 77.03%\n",
            "[Epoch 10, Batch  1200] Loss: 0.666 Train Acc: 77.61%\n",
            "[Epoch 10, Batch  1400] Loss: 0.646 Train Acc: 79.00%\n",
            "[Epoch 10] Validation Loss: 0.684 Validation Acc: 76.71%\n"
          ]
        }
      ]
    },
    {
      "cell_type": "code",
      "source": [
        "net = Net()\n",
        "net.load_state_dict(torch.load(PATH, weights_only=True))\n",
        "\n",
        "correct = 0\n",
        "total = 0\n",
        "# since we're not training, we don't need to calculate the gradients for our outputs\n",
        "with torch.no_grad():\n",
        "    for data in testloader:\n",
        "        images, labels = data\n",
        "        # calculate outputs by running images through the network\n",
        "        outputs = net(images)\n",
        "        # the class with the highest energy is what we choose as prediction\n",
        "        _, predicted = torch.max(outputs, 1)\n",
        "        total += labels.size(0)\n",
        "        correct += (predicted == labels).sum().item()\n",
        "\n",
        "print(f'Accuracy of the network on the 10000 test images: {100 * correct / total} %')"
      ],
      "metadata": {
        "colab": {
          "base_uri": "https://localhost:8080/"
        },
        "id": "8lJKmzxaZXj-",
        "outputId": "d1ac5c23-14d6-4460-8ec5-6c18252f9676"
      },
      "execution_count": null,
      "outputs": [
        {
          "output_type": "stream",
          "name": "stdout",
          "text": [
            "Accuracy of the network on the 10000 test images: 73.84 %\n"
          ]
        }
      ]
    }
  ]
}